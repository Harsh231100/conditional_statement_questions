{
 "cells": [
  {
   "cell_type": "markdown",
   "id": "3d0752cb",
   "metadata": {},
   "source": [
    "# Conditional Statement Questions"
   ]
  },
  {
   "cell_type": "markdown",
   "id": "6f1388e7",
   "metadata": {},
   "source": [
    "### 1. Write a Python program that asks the user for their age and prints \"You are an adult\" if the age is 18 or older, otherwise prints \"You are a minor''."
   ]
  },
  {
   "cell_type": "code",
   "execution_count": 3,
   "id": "fedae073",
   "metadata": {},
   "outputs": [
    {
     "name": "stdout",
     "output_type": "stream",
     "text": [
      "enter your age: 20\n",
      "You are an adult\n"
     ]
    }
   ],
   "source": [
    "x = int(input('enter your age: '))\n",
    "\n",
    "if x >= 18:                        #if we give age value greater than or equal to 18 it will give \"You are an adult\"\n",
    "    print(\"You are an adult\")\n",
    "else:                              #if we give age value less than 18 it will give \"You are a minor\"\n",
    "    print(\"You are a minor\")"
   ]
  },
  {
   "cell_type": "code",
   "execution_count": 4,
   "id": "3bedd654",
   "metadata": {},
   "outputs": [
    {
     "name": "stdout",
     "output_type": "stream",
     "text": [
      "enter your age: 11\n",
      "You are a minor\n"
     ]
    }
   ],
   "source": [
    "x = int(input('enter your age: '))\n",
    "\n",
    "if x >= 18:                        #if we give age value greater than or equal to 18 it will give \"You are an adult\"\n",
    "    print(\"You are an adult\")\n",
    "else:                              #if we give age value less than 18 it will give \"You are a minor\"\n",
    "    print(\"You are a minor\")"
   ]
  },
  {
   "cell_type": "markdown",
   "id": "d00a487b",
   "metadata": {},
   "source": [
    "### 2. Write a program that takes a numerical grade (out of 100) as input and prints the corresponding letter grade according to the following scale:\n",
    "* **90-100: A**\n",
    "* **80-89: B**\n",
    "* **70-79: C**\n",
    "* **60-69: D**\n",
    "* **Below 60: F**\n"
   ]
  },
  {
   "cell_type": "code",
   "execution_count": 42,
   "id": "a5223e38",
   "metadata": {},
   "outputs": [
    {
     "name": "stdout",
     "output_type": "stream",
     "text": [
      "enter your marks : 82\n",
      "B\n"
     ]
    }
   ],
   "source": [
    "x = int(input('enter your marks : '))\n",
    "\n",
    "if x in range(90,101):                 # if (90-100) it give return value A\n",
    "    print('A')\n",
    "elif x in range(80,90):                # if (80-89) it give return value B\n",
    "    print('B')\n",
    "elif x in range(70,80):                # if (70-79) it give return value c\n",
    "    print('C')\n",
    "elif x in range(60,70):                # if (60-69) it give return value D\n",
    "    print('D')\n",
    "elif x in range(0,60):                 # if (below 60) it give return value F\n",
    "    print('F')\n",
    "else :\n",
    "    print('invalid')                   # if the value is less than 0 or greater than 100 it give invalid"
   ]
  },
  {
   "cell_type": "code",
   "execution_count": 43,
   "id": "e450d7b7",
   "metadata": {},
   "outputs": [
    {
     "name": "stdout",
     "output_type": "stream",
     "text": [
      "enter your marks : 55\n",
      "F\n"
     ]
    }
   ],
   "source": [
    "x = int(input('enter your marks : '))\n",
    "\n",
    "if x in range(90,101):                 # if (90-100) it give return value A\n",
    "    print('A')\n",
    "elif x in range(80,90):                # if (80-89) it give return value B\n",
    "    print('B')\n",
    "elif x in range(70,80):                # if (70-79) it give return value c\n",
    "    print('C')\n",
    "elif x in range(60,70):                # if (60-69) it give return value D\n",
    "    print('D')\n",
    "elif x in range(0,60):                 # if (below 60) it give return value F\n",
    "    print('F')\n",
    "else :\n",
    "    print('invalid')                   # if the value is less than 0 or greater than 100 it give invalid"
   ]
  },
  {
   "cell_type": "code",
   "execution_count": 44,
   "id": "2eab7e8a",
   "metadata": {},
   "outputs": [
    {
     "name": "stdout",
     "output_type": "stream",
     "text": [
      "enter your marks : 101\n",
      "invalid\n"
     ]
    }
   ],
   "source": [
    "x = int(input('enter your marks : '))\n",
    "\n",
    "if x in range(90,101):                 # if (90-100) it give return value A\n",
    "    print('A')\n",
    "elif x in range(80,90):                # if (80-89) it give return value B\n",
    "    print('B')\n",
    "elif x in range(70,80):                # if (70-79) it give return value c\n",
    "    print('C')\n",
    "elif x in range(60,70):                # if (60-69) it give return value D\n",
    "    print('D')\n",
    "elif x in range(0,60):                 # if (below 60) it give return value F\n",
    "    print('F')\n",
    "else :\n",
    "    print('invalid')                   # if the value is less than 0 or greater than 100 it give invalid"
   ]
  },
  {
   "cell_type": "markdown",
   "id": "f1501101",
   "metadata": {},
   "source": [
    "### 3. Write a program that calculates the Body Mass Index (BMI) of a person. The user should input their weight in kilograms and height in meters. The program should then print whether the person is underweight, normal weight, overweight, or obese."
   ]
  },
  {
   "cell_type": "code",
   "execution_count": 6,
   "id": "081a5e3c",
   "metadata": {},
   "outputs": [
    {
     "name": "stdout",
     "output_type": "stream",
     "text": [
      "enter your weight : 70\n",
      "enter your height : 1.75\n",
      "22.857142857142858\n",
      "you are in the normal weight range\n"
     ]
    }
   ],
   "source": [
    "# Body Mass Index (BMI) calculator of a person.\n",
    "# weight in kilograms and height in meters.\n",
    "\n",
    "weight = (float(input('enter your weight : ')))\n",
    "height = (float(input('enter your height : ')))\n",
    "BMI = weight / (height ** 2)    # Body Mass Index (BMI) formula.\n",
    "print(BMI)\n",
    "\n",
    "if BMI <= 18.5:            # if the BMI value is less then or equal to 18.5 it returns 'you are underweight'.\n",
    "    print('you are underweight')\n",
    "elif 18.5 < BMI <=25.9:      # if the BMI value is between 18.5 to 26 it returns 'you are in the normal weight range'.\n",
    "    print('you are in the normal weight range')\n",
    "elif 26 < BMI <= 32:         # if the BMI value is between 26 to 32 it returns 'you are overweight'.\n",
    "    print('you are overweight')\n",
    "else:\n",
    "    print('you are obese')"
   ]
  },
  {
   "cell_type": "markdown",
   "id": "ab370a80",
   "metadata": {},
   "source": [
    "### 4. Write a program that asks the user for three numbers and prints the maximum of the three."
   ]
  },
  {
   "cell_type": "code",
   "execution_count": 18,
   "id": "a1206585",
   "metadata": {},
   "outputs": [
    {
     "name": "stdout",
     "output_type": "stream",
     "text": [
      "Enter value of x: 45\n",
      "Enter value of y: 62\n",
      "Enter value of z: 11\n",
      "Value of y is maximum\n"
     ]
    }
   ],
   "source": [
    "x = int(input('Enter value of x: '))\n",
    "y = int(input('Enter value of y: '))\n",
    "z = int(input('Enter value of z: '))\n",
    "\n",
    "if x>y and x>z:                                   # if 1st value is greater than 2nd or 3rd , it gives 1st value is max.\n",
    "    print('Value of x is maximum')\n",
    "elif y>x and y>z:                                 # if 2nd value is greater than 1st or 3rd , it gives 2st value is max.\n",
    "    print('Value of y is maximum')\n",
    "else:                                             # if all the given statement is false then the 3rd value will max.\n",
    "    print('Value of z is maximum')"
   ]
  },
  {
   "cell_type": "code",
   "execution_count": 19,
   "id": "2d84a260",
   "metadata": {},
   "outputs": [
    {
     "name": "stdout",
     "output_type": "stream",
     "text": [
      "Enter value of x: 910\n",
      "Enter value of y: 658\n",
      "Enter value of z: 152\n",
      "Value of x is maximum\n"
     ]
    }
   ],
   "source": [
    "x = int(input('Enter value of x: '))\n",
    "y = int(input('Enter value of y: '))\n",
    "z = int(input('Enter value of z: '))\n",
    "\n",
    "if x>y and x>z:                                   # if 1st value is greater than 2nd or 3rd , it gives 1st value is max.\n",
    "    print('Value of x is maximum')\n",
    "elif y>x and y>z:                                 # if 2nd value is greater than 1st or 3rd , it gives 2st value is max.\n",
    "    print('Value of y is maximum')\n",
    "else:                                             # if all the given statement is false then the 3rd value will max.\n",
    "    print('Value of z is maximum')"
   ]
  },
  {
   "cell_type": "markdown",
   "id": "c6100f4d",
   "metadata": {},
   "source": [
    "### 5. Write a program that asks the user for a temperature (in Celsius) and prints \"It's freezing\" if the temperature is below 0, \"It's cool\" if it's between 0 and 10, \"It's warm\" if it's between 10 and 20, and \"It's hot\" if it's above 20\n"
   ]
  },
  {
   "cell_type": "code",
   "execution_count": 32,
   "id": "3fc8ee46",
   "metadata": {},
   "outputs": [
    {
     "name": "stdout",
     "output_type": "stream",
     "text": [
      "Enter the temperature: -10\n",
      "It's freezing\n"
     ]
    }
   ],
   "source": [
    "x = int(input('Enter the temperature (in Celsius): '))\n",
    "\n",
    "if x<0:                                 #if we give less than 0 value ,it gives \"It's freezing\"\n",
    "    print(\"It's freezing\")\n",
    "elif x in range(0,11):                  #if we give between 0 and 10 value ,it gives \"It's cool\"\n",
    "    print(\"It's cool\")\n",
    "elif x in range(10,21):                 #if we give  between 10 and 20 value ,it gives \"It's warm\"\n",
    "    print(\"It's warm\")\n",
    "else:                                   #if we give above 20 value ,it gives \"It's hot\"\n",
    "    print(\"It's hot\")"
   ]
  },
  {
   "cell_type": "code",
   "execution_count": 33,
   "id": "b07ba6b1",
   "metadata": {},
   "outputs": [
    {
     "name": "stdout",
     "output_type": "stream",
     "text": [
      "Enter the temperature: 13\n",
      "It's warm\n"
     ]
    }
   ],
   "source": [
    "x = int(input('Enter the temperature (in Celsius): '))\n",
    "\n",
    "if x<0:                                 #if we give less than 0 value ,it gives \"It's freezing\"\n",
    "    print(\"It's freezing\")\n",
    "elif x in range(0,11):                  #if we give between 0 and 10 value ,it gives \"It's cool\"\n",
    "    print(\"It's cool\")\n",
    "elif x in range(10,21):                 #if we give  between 10 and 20 value ,it gives \"It's warm\"\n",
    "    print(\"It's warm\")\n",
    "else:                                   #if we give above 20 value ,it gives \"It's hot\"\n",
    "    print(\"It's hot\")"
   ]
  },
  {
   "cell_type": "markdown",
   "id": "e27d7ee0",
   "metadata": {},
   "source": [
    "### 6. Write a program that asks the user for a number (1-7) and prints the corresponding day of the week."
   ]
  },
  {
   "cell_type": "code",
   "execution_count": 50,
   "id": "d6e25e57",
   "metadata": {},
   "outputs": [
    {
     "name": "stdout",
     "output_type": "stream",
     "text": [
      "Enter a number between (1-7): 5\n",
      "Friday\n"
     ]
    }
   ],
   "source": [
    "x = int(input('Enter a number between (1-7): '))    # we give input here only (1-7) num.\n",
    "\n",
    "if x == 1:                   # if input value is equal to 1 then it gives return value monday.\n",
    "    print('Monday')\n",
    "elif x == 2:                 # if input value is equal to 2 then it gives return value tuesday.\n",
    "    print('Tuesday')\n",
    "elif x == 3:                 # if input value is equal to 3 then it gives return value wednesday.\n",
    "    print('Wednesday')\n",
    "elif x == 4:                 # if input value is equal to 4 then it gives return value thursday.\n",
    "    print('Thursday')\n",
    "elif x == 5:                 # if input value is equal to 5 then it gives return value firday.\n",
    "    print('Friday')\n",
    "elif x == 6:                 # if input value is equal to 6 then it gives return value saturday.\n",
    "    print('Saturday')\n",
    "elif x == 7:                 # if input value is equal to 7 then it gives return value sunday.\n",
    "    print('Sunday')\n",
    "else:                        # if input value is greaterthen 7, it gives Invalid.\n",
    "    print('invalid ')"
   ]
  },
  {
   "cell_type": "code",
   "execution_count": 51,
   "id": "8533e60a",
   "metadata": {},
   "outputs": [
    {
     "name": "stdout",
     "output_type": "stream",
     "text": [
      "Enter a number between (1-7): 1\n",
      "Monday\n"
     ]
    }
   ],
   "source": [
    "x = int(input('Enter a number between (1-7): '))    # we give input here only (1-7) num.\n",
    "\n",
    "if x == 1:                   # if input value is equal to 1 then it gives return value monday.\n",
    "    print('Monday')\n",
    "elif x == 2:                 # if input value is equal to 2 then it gives return value tuesday.\n",
    "    print('Tuesday')\n",
    "elif x == 3:                 # if input value is equal to 3 then it gives return value wednesday.\n",
    "    print('Wednesday')\n",
    "elif x == 4:                 # if input value is equal to 4 then it gives return value thursday.\n",
    "    print('Thursday')\n",
    "elif x == 5:                 # if input value is equal to 5 then it gives return value firday.\n",
    "    print('Friday')\n",
    "elif x == 6:                 # if input value is equal to 6 then it gives return value saturday.\n",
    "    print('Saturday')\n",
    "elif x == 7:                 # if input value is equal to 7 then it gives return value sunday.\n",
    "    print('Sunday')\n",
    "else:                        # if input value is greater than 7, it gives Invalid.\n",
    "    print('invalid ')"
   ]
  },
  {
   "cell_type": "markdown",
   "id": "21e211dd",
   "metadata": {},
   "source": [
    "### 7. Write a program that asks the user for a number and prints \"In range\" if the number is between 10 and 20 (inclusive), and \"Out of range\" otherwise.\n"
   ]
  },
  {
   "cell_type": "code",
   "execution_count": 55,
   "id": "dcfa3e10",
   "metadata": {},
   "outputs": [
    {
     "name": "stdout",
     "output_type": "stream",
     "text": [
      "enter a number : 20\n",
      "in range\n"
     ]
    }
   ],
   "source": [
    "num = int(input('enter a number : '))\n",
    "\n",
    "if num in range(10, 21):              #if we give between 10 and 20 (inclusive) value ,it gives 'in range'\n",
    "    print('in range')\n",
    "else:                                 #otherwise all the value ,it will give 'out of range'\n",
    "    print('out of range')"
   ]
  },
  {
   "cell_type": "code",
   "execution_count": 53,
   "id": "efecf30c",
   "metadata": {},
   "outputs": [
    {
     "name": "stdout",
     "output_type": "stream",
     "text": [
      "enter a number : 22\n",
      "out of range\n"
     ]
    }
   ],
   "source": [
    "num = int(input('enter a number : '))\n",
    "\n",
    "if num in range(10, 21):              #if we give between 10 and 20 (inclusive) value ,it gives 'in range'\n",
    "    print('in range')\n",
    "else:                                 #otherwise all the value ,it will give 'out of range'\n",
    "    print('out of range')"
   ]
  },
  {
   "cell_type": "markdown",
   "id": "efdd17fc",
   "metadata": {},
   "source": [
    "### 8. Write a program that asks the user for an integer and prints whether it's even or odd."
   ]
  },
  {
   "cell_type": "code",
   "execution_count": 58,
   "id": "218179d0",
   "metadata": {},
   "outputs": [
    {
     "name": "stdout",
     "output_type": "stream",
     "text": [
      "Enter number: 495\n",
      "Odd\n"
     ]
    }
   ],
   "source": [
    "a = int(input('Enter number: '))\n",
    "\n",
    "if a % 2 == 0:             #if input value is divisible by 2, then it is a even number.\n",
    "    print('Even')\n",
    "else:                      #if input value is not divisible by 2, then it is a odd number.\n",
    "    print('Odd')"
   ]
  },
  {
   "cell_type": "code",
   "execution_count": 59,
   "id": "da9c7660",
   "metadata": {
    "scrolled": true
   },
   "outputs": [
    {
     "name": "stdout",
     "output_type": "stream",
     "text": [
      "Enter number: 498\n",
      "Even\n"
     ]
    }
   ],
   "source": [
    "a = int(input('Enter number: '))\n",
    "\n",
    "if a % 2 == 0:             #if input value is divisible by 2, then it is a even number.\n",
    "    print('Even')\n",
    "else:                      #if input value is not divisible by 2, then it is a odd number.\n",
    "    print('Odd')"
   ]
  },
  {
   "cell_type": "markdown",
   "id": "c34669a8",
   "metadata": {},
   "source": [
    "### 9.  Write a Python program to add 'ing' at the end of a given string (string length should be equal to or more than 3). If the given string already ends with 'ing' then add 'ly' instead.If the string length of the given string is less than 3, leave it unchanged."
   ]
  },
  {
   "cell_type": "code",
   "execution_count": 4,
   "id": "3e247d79",
   "metadata": {},
   "outputs": [
    {
     "name": "stdout",
     "output_type": "stream",
     "text": [
      "enter a string: surrounding\n",
      "surroundingly\n"
     ]
    }
   ],
   "source": [
    "x = input('enter a word: ')\n",
    "\n",
    "if len(x)==2:             #if the string of length is less than 3 it will give same value. \n",
    "    print(x)\n",
    "elif x.endswith('ing'):   #if the string is endswith 'ing' then the return value add by 'ly' at the end.\n",
    "    print((x)+('ly'))\n",
    "else:                     #if the string of length is greater than 3 then the return value add by 'ing' at the end. \n",
    "    print((x)+('ing'))"
   ]
  },
  {
   "cell_type": "code",
   "execution_count": 5,
   "id": "2ae94546",
   "metadata": {},
   "outputs": [
    {
     "name": "stdout",
     "output_type": "stream",
     "text": [
      "enter a string: work\n",
      "working\n"
     ]
    }
   ],
   "source": [
    "x = input('enter a word: ')\n",
    "\n",
    "if len(x)==2:             #if the string of length is less than 3 it will give same value. \n",
    "    print(x)\n",
    "elif x.endswith('ing'):   #if the string is endswith 'ing' then the return value add by 'ly' at the end.\n",
    "    print((x)+('ly'))\n",
    "else:                     #if the string of length is greater than 3 then the return value add by 'ing' at the end. \n",
    "    print((x)+('ing'))"
   ]
  },
  {
   "cell_type": "code",
   "execution_count": 6,
   "id": "7b8af754",
   "metadata": {},
   "outputs": [
    {
     "name": "stdout",
     "output_type": "stream",
     "text": [
      "enter a string: do\n",
      "do\n"
     ]
    }
   ],
   "source": [
    "x = input('enter a word: ')\n",
    "\n",
    "if len(x)==2:             #if the string of length is less than 3 it will give same value. \n",
    "    print(x)\n",
    "elif x.endswith('ing'):   #if the string is endswith 'ing' then the return value add by 'ly' at the end.\n",
    "    print((x)+('ly'))\n",
    "else:                     #if the string of length is greater than 3 then the return value add by 'ing' at the end. \n",
    "    print((x)+('ing'))"
   ]
  },
  {
   "cell_type": "markdown",
   "id": "3a027c8f",
   "metadata": {},
   "source": [
    "### 10. Create rock-paper-scissors by using the if condition."
   ]
  },
  {
   "cell_type": "code",
   "execution_count": 50,
   "id": "3167b96c",
   "metadata": {},
   "outputs": [
    {
     "name": "stdout",
     "output_type": "stream",
     "text": [
      "player - I: s\n",
      "a wins\n"
     ]
    }
   ],
   "source": [
    "# creating rock-paper-scissors by using the if condition.\n",
    "# r p s\n",
    "\n",
    "import random \n",
    "b = list('rps')\n",
    "random.shuffle(b)\n",
    "b = b[0]\n",
    "\n",
    "a= input('player - I: ').lower()\n",
    "\n",
    "if (a == 'p' and b == 'r') or (a == 's' and b == 'p') or (a == 'r' and b == 's'):\n",
    "    print('a wins')\n",
    "elif a == b:\n",
    "    print('tie')\n",
    "else:\n",
    "    print('b')"
   ]
  },
  {
   "cell_type": "code",
   "execution_count": 51,
   "id": "4e670acd",
   "metadata": {},
   "outputs": [
    {
     "name": "stdout",
     "output_type": "stream",
     "text": [
      "player - I: p\n",
      "tie\n"
     ]
    }
   ],
   "source": [
    "# creating rock-paper-scissors by using the if condition.\n",
    "# r p s\n",
    "\n",
    "import random \n",
    "b = list('rps')\n",
    "random.shuffle(b)\n",
    "b = b[0]\n",
    "\n",
    "a= input('player - I: ').lower()\n",
    "\n",
    "if (a == 'p' and b == 'r') or (a == 's' and b == 'p') or (a == 'r' and b == 's'):\n",
    "    print('a wins')\n",
    "elif a == b:\n",
    "    print('tie')\n",
    "else:\n",
    "    print('b')"
   ]
  },
  {
   "cell_type": "markdown",
   "id": "09b285b5",
   "metadata": {},
   "source": [
    "### 11. Create a dynamic calculator which asks for numbers and operator and return the answers,\n",
    "    Example\n",
    "    Input: Type first number: 10\",\n",
    "    Type any of this (+, -, *, /, %, **): ,*\n",
    "    Assignment-2 ,\n",
    "    Type second number: 19,\n",
    "    Output:Answer is 190\n"
   ]
  },
  {
   "cell_type": "code",
   "execution_count": 20,
   "id": "d7733886",
   "metadata": {},
   "outputs": [
    {
     "name": "stdout",
     "output_type": "stream",
     "text": [
      "enter first number: 10\n",
      "enter second number: 19\n",
      "Operators: *\n",
      "190\n"
     ]
    }
   ],
   "source": [
    "x = int(input('enter first number: '))\n",
    "y = int(input('enter second number: '))\n",
    "op = input('Operators: ')                 #operators = +,-,*,/,%,**\n",
    "\n",
    "if op=='+':       #for addition\n",
    "    print(x+y)\n",
    "elif op=='-':     #for subtraction\n",
    "    print(x-y)\n",
    "elif op=='*':     #for multiplication\n",
    "    print(x*y)\n",
    "elif op=='/':     #for division\n",
    "    print(x/y)\n",
    "elif op=='%':     #for modulus\n",
    "    print(x%y)\n",
    "elif op=='**':    #for exponent\n",
    "    print(x**y)\n",
    "else:\n",
    "    print('invalid operators')"
   ]
  },
  {
   "cell_type": "code",
   "execution_count": 21,
   "id": "94936191",
   "metadata": {},
   "outputs": [
    {
     "name": "stdout",
     "output_type": "stream",
     "text": [
      "enter first number: 45\n",
      "enter second number: 10\n",
      "Operators: -\n",
      "35\n"
     ]
    }
   ],
   "source": [
    "x = int(input('enter first number: '))\n",
    "y = int(input('enter second number: '))\n",
    "op = input('Operators: ')                 #operators = +,-,*,/,%,**\n",
    "\n",
    "if op=='+':       #for addition\n",
    "    print(x+y)\n",
    "elif op=='-':     #for subtraction\n",
    "    print(x-y)\n",
    "elif op=='*':     #for multiplication\n",
    "    print(x*y)\n",
    "elif op=='/':     #for division\n",
    "    print(x/y)\n",
    "elif op=='%':     #for modulus\n",
    "    print(x%y)\n",
    "elif op=='**':    #for exponent\n",
    "    print(x**y)\n",
    "else:\n",
    "    print('invalid operators')"
   ]
  },
  {
   "cell_type": "markdown",
   "id": "e642181b",
   "metadata": {},
   "source": [
    "### 12. Manoj Kumar has family and friends. Help him remind them who is who. Given a string with a name, return the relation of that person to Manoj Kumar.,\n",
    "#### Person Relation,\n",
    "#### Shiva father ,Letha mother, Tarun brother,Kavitha sister ,,Strange Coder.\n"
   ]
  },
  {
   "cell_type": "code",
   "execution_count": 24,
   "id": "43c1423c",
   "metadata": {},
   "outputs": [
    {
     "name": "stdout",
     "output_type": "stream",
     "text": [
      "enter a name: Tarun\n",
      "brother\n"
     ]
    }
   ],
   "source": [
    "x = input('enter a name: ')\n",
    "\n",
    "if x=='Shiva':         #if input value is equal to shiva return father.\n",
    "    print('father')\n",
    "elif x=='Letha':       #if input value is equal to letha return mother.\n",
    "    print('mother')\n",
    "elif x=='Tarun':       #if input value is equal to tarun return brother.\n",
    "    print('brother')\n",
    "elif x=='Kavitha':     #if input value is equal to kavitha return sister.\n",
    "    print('sister')\n",
    "else:                  #else strangers.\n",
    "    print('stranger')"
   ]
  },
  {
   "cell_type": "code",
   "execution_count": 25,
   "id": "77bbc86e",
   "metadata": {},
   "outputs": [
    {
     "name": "stdout",
     "output_type": "stream",
     "text": [
      "enter a name: Kavitha\n",
      "sister\n"
     ]
    }
   ],
   "source": [
    "x = input('enter a name: ')\n",
    "\n",
    "if x=='Shiva':         #if input value is equal to shiva return father.\n",
    "    print('father')\n",
    "elif x=='Letha':       #if input value is equal to letha return mother.\n",
    "    print('mother')\n",
    "elif x=='Tarun':       #if input value is equal to tarun return brother.\n",
    "    print('brother')\n",
    "elif x=='Kavitha':     #if input value is equal to kavitha return sister.\n",
    "    print('sister')\n",
    "else:                  #else strangers.\n",
    "    print('stranger')"
   ]
  },
  {
   "cell_type": "markdown",
   "id": "1b6a0d28",
   "metadata": {},
   "source": [
    "### 13. Write a python program that takes in a word and determines whether or not it is plural. A plural word is one that ends with “s”"
   ]
  },
  {
   "cell_type": "code",
   "execution_count": 26,
   "id": "098922bf",
   "metadata": {},
   "outputs": [
    {
     "name": "stdout",
     "output_type": "stream",
     "text": [
      "Enter a word: strings\n",
      "It is plural\n"
     ]
    }
   ],
   "source": [
    "a = input('Enter a word: ')\n",
    "\n",
    "if a.endswith('s'):              #Using emdswith to check if s is present at the end of the word or not.\n",
    "    print('It is plural')\n",
    "else:\n",
    "    print('It is not plural')"
   ]
  },
  {
   "cell_type": "code",
   "execution_count": 27,
   "id": "b1341f81",
   "metadata": {},
   "outputs": [
    {
     "name": "stdout",
     "output_type": "stream",
     "text": [
      "Enter a word: python\n",
      "It is not plural\n"
     ]
    }
   ],
   "source": [
    "a = input('Enter a word: ')\n",
    "\n",
    "if a.endswith('s'):              #Using emdswith to check if s is present at the end of the word or not.\n",
    "    print('It is plural')\n",
    "else:\n",
    "    print('It is not plural')"
   ]
  },
  {
   "cell_type": "markdown",
   "id": "06d95c00",
   "metadata": {},
   "source": [
    "### 14. A company decided to give a bonus of 5% to employees if his/her year of service is more than 5 years.Ask user for their salary and year of service and print the net bonus amount."
   ]
  },
  {
   "cell_type": "code",
   "execution_count": 43,
   "id": "86a327d9",
   "metadata": {},
   "outputs": [
    {
     "name": "stdout",
     "output_type": "stream",
     "text": [
      "Enter your salary:50000\n",
      "Enter Years of service:6\n",
      "Yours salary(+Bonus) =  52500.0\n"
     ]
    }
   ],
   "source": [
    "salary = int(input(\"Enter your salary:\"))\n",
    "service_years = int(input(\"Enter Years of service:\"))\n",
    "\n",
    "bonus = (salary)*5/100         # company decided to give a bonus of 5% to employes, who doing service from more than 5 years.\n",
    "\n",
    "if service_years > 5:          # working from more than 5 years.\n",
    "    print(\"Yours salary(+Bonus) = \",salary + bonus)\n",
    "else:\n",
    "    print(\"You are not eligible for bonus as you have less service years.\")"
   ]
  },
  {
   "cell_type": "code",
   "execution_count": 44,
   "id": "12dab31e",
   "metadata": {},
   "outputs": [
    {
     "name": "stdout",
     "output_type": "stream",
     "text": [
      "Enter your salary:20000\n",
      "Enter Years of service:3\n",
      "You are not eligible for bonus as you have less service years.\n"
     ]
    }
   ],
   "source": [
    "salary = int(input(\"Enter your salary:\"))\n",
    "service_years = int(input(\"Enter Years of service:\"))\n",
    "\n",
    "bonus = (salary)*5/100         # company decided to give a bonus of 5% to employes, who doing service from more than 5 years.\n",
    "\n",
    "if service_years > 5:          # working from more than 5 years.\n",
    "    print(\"Yours salary(+Bonus) = \",salary + bonus)\n",
    "else:\n",
    "    print(\"You are not eligible for bonus as you have less service years.\")"
   ]
  },
  {
   "cell_type": "markdown",
   "id": "cc56368e",
   "metadata": {},
   "source": [
    "### 15. Take values of length and breadth of a rectangle from the user and check if it is square or not."
   ]
  },
  {
   "cell_type": "code",
   "execution_count": 28,
   "id": "054bf6ea",
   "metadata": {},
   "outputs": [
    {
     "name": "stdout",
     "output_type": "stream",
     "text": [
      "Length of rectangle: 20\n",
      "Breadth of rectangle: 20\n",
      "It is a square\n"
     ]
    }
   ],
   "source": [
    "x = int(input('Length of rectangle: '))\n",
    "y = int(input('Breadth of rectangle: '))\n",
    "\n",
    "if x==y:                # if length and breadth both are equal then it's a square otherwise not a square.\n",
    "    print('It is a square')\n",
    "else:\n",
    "    print('It is not a square')"
   ]
  },
  {
   "cell_type": "code",
   "execution_count": 29,
   "id": "3e8bf2da",
   "metadata": {},
   "outputs": [
    {
     "name": "stdout",
     "output_type": "stream",
     "text": [
      "Length of rectangle: 20\n",
      "Breadth of rectangle: 30\n",
      "It is not a square\n"
     ]
    }
   ],
   "source": [
    "x = int(input('Length of rectangle: '))\n",
    "y = int(input('Breadth of rectangle: '))\n",
    "\n",
    "if x==y:                # if length and breadth both are equal then it's a square otherwise not a square.\n",
    "    print('It is a square')\n",
    "else:\n",
    "    print('It is not a square')"
   ]
  },
  {
   "cell_type": "markdown",
   "id": "4fbdceb0",
   "metadata": {},
   "source": [
    "### 16. Accept any city from the user and display the momentum of the city \n",
    "* **Hyderabad  : “charminar”**\n",
    "* **“Delhi”    : “red fort**\n",
    "* **“Agra      : Taj mahal**\n",
    "### If the city name is not given correctly, give him a warning message\n"
   ]
  },
  {
   "cell_type": "code",
   "execution_count": 61,
   "id": "9ff4ba66",
   "metadata": {},
   "outputs": [
    {
     "name": "stdout",
     "output_type": "stream",
     "text": [
      "name of the city: Delhi\n",
      "red fort\n"
     ]
    }
   ],
   "source": [
    "x = input('name of the city: ')\n",
    "\n",
    "if x == 'Hyderabad':    #if input value is given hyderabad then it will print charminar.\n",
    "    print('charminar')\n",
    "elif x == 'Delhi':      #if input value is given delhi then it will print red fort.\n",
    "    print('red fort')\n",
    "elif x == 'Agra':       #if input value is given agra then it will print taj mahal.\n",
    "    print('Taj mahal')\n",
    "else:\n",
    "    print('you have given invalid command')"
   ]
  },
  {
   "cell_type": "code",
   "execution_count": 62,
   "id": "c3557847",
   "metadata": {},
   "outputs": [
    {
     "name": "stdout",
     "output_type": "stream",
     "text": [
      "name of the city: Agra\n",
      "Taj mahal\n"
     ]
    }
   ],
   "source": [
    "x = input('name of the city: ')\n",
    "\n",
    "if x == 'Hyderabad':    #if input value is given hyderabad then it will print charminar.\n",
    "    print('charminar')\n",
    "elif x == 'Delhi':      #if input value is given delhi then it will print red fort.\n",
    "    print('red fort')\n",
    "elif x == 'Agra':       #if input value is given agra then it will print taj mahal.\n",
    "    print('Taj mahal')\n",
    "else:\n",
    "    print('you have given invalid command')"
   ]
  },
  {
   "cell_type": "code",
   "execution_count": 63,
   "id": "81c05204",
   "metadata": {},
   "outputs": [
    {
     "name": "stdout",
     "output_type": "stream",
     "text": [
      "name of the city: Mumbai\n",
      "you have given invalid command\n"
     ]
    }
   ],
   "source": [
    "x = input('name of the city: ')\n",
    "\n",
    "if x == 'Hyderabad':    #if input value is given hyderabad then it will print charminar.\n",
    "    print('charminar')\n",
    "elif x == 'Delhi':      #if input value is given delhi then it will print red fort.\n",
    "    print('red fort')\n",
    "elif x == 'Agra':       #if input value is given agra then it will print taj mahal.\n",
    "    print('Taj mahal')\n",
    "else:\n",
    "    print('you have given invalid command')"
   ]
  },
  {
   "cell_type": "markdown",
   "id": "0e5c2f74",
   "metadata": {},
   "source": [
    "### 17. Write a program to check whether a person is eligible for voting or not  (voting age>=18)."
   ]
  },
  {
   "cell_type": "code",
   "execution_count": 64,
   "id": "588c716c",
   "metadata": {},
   "outputs": [
    {
     "name": "stdout",
     "output_type": "stream",
     "text": [
      "Enter age of a person: 17\n",
      "Not eligible for voting\n"
     ]
    }
   ],
   "source": [
    "x = int(input('Enter age of a person: '))\n",
    "\n",
    "if x >= 18:       #if the given input value is greater than or equal to 18 then return 'Eligible for voting'.\n",
    "    print('Eligible for voting')\n",
    "else:              #if the given input value is less than 18 then return 'Not Eligible for voting'.\n",
    "    print('Not eligible for voting')"
   ]
  },
  {
   "cell_type": "code",
   "execution_count": 65,
   "id": "a2b4c16f",
   "metadata": {},
   "outputs": [
    {
     "name": "stdout",
     "output_type": "stream",
     "text": [
      "Enter age of a person: 22\n",
      "Eligible for voting\n"
     ]
    }
   ],
   "source": [
    "x = int(input('Enter age of a person: '))\n",
    "\n",
    "if x >= 18:       #if the given input value is greater than or equal to 18 then return 'Eligible for voting'.\n",
    "    print('Eligible for voting')\n",
    "else:              #if the given input value is less than 18 then return 'Not Eligible for voting'.\n",
    "    print('Not eligible for voting')"
   ]
  },
  {
   "cell_type": "markdown",
   "id": "b52fcaf7",
   "metadata": {},
   "source": [
    "### 18. Accept three sides of the triangle and check whether the triangle is possible or not.(Triangle is possible only when the sum of any two sides is greater than 3 rd side)."
   ]
  },
  {
   "cell_type": "code",
   "execution_count": 38,
   "id": "73ff9e68",
   "metadata": {},
   "outputs": [
    {
     "name": "stdout",
     "output_type": "stream",
     "text": [
      "Enter side a: 20\n",
      "Enter side b: 20\n",
      "Enter side c: 30\n",
      "Triangle is possible\n"
     ]
    }
   ],
   "source": [
    "a = int(input('Enter side a: '))\n",
    "b = int(input('Enter side b: '))\n",
    "c = int(input('Enter side c: '))\n",
    "  \n",
    "if (a+b)>c and (b+c)>a and (c+a)>b:  #Triangle is possible only when the sum of any two sides is greater than 3rd side.\n",
    "    print('Triangle is possible')\n",
    "else:                                #Triangle is not possible when the sum of any two sides is less than 3rd side.\n",
    "    print('Triangle is not possible')"
   ]
  },
  {
   "cell_type": "code",
   "execution_count": 39,
   "id": "08d7348c",
   "metadata": {},
   "outputs": [
    {
     "name": "stdout",
     "output_type": "stream",
     "text": [
      "Enter side a: 20\n",
      "Enter side b: 20\n",
      "Enter side c: 60\n",
      "Triangle is not possible\n"
     ]
    }
   ],
   "source": [
    "a = int(input('Enter side a: '))\n",
    "b = int(input('Enter side b: '))\n",
    "c = int(input('Enter side c: '))\n",
    "  \n",
    "if (a+b)>c and (b+c)>a and (c+a)>b:  #Triangle is possible only when the sum of any two sides is greater than 3rd side.\n",
    "    print('Triangle is possible')\n",
    "else:                                #Triangle is not possible when the sum of any two sides is less than 3rd side.\n",
    "    print('Triangle is not possible')"
   ]
  },
  {
   "cell_type": "code",
   "execution_count": null,
   "id": "99ebd33e",
   "metadata": {},
   "outputs": [],
   "source": []
  }
 ],
 "metadata": {
  "kernelspec": {
   "display_name": "Python 3 (ipykernel)",
   "language": "python",
   "name": "python3"
  },
  "language_info": {
   "codemirror_mode": {
    "name": "ipython",
    "version": 3
   },
   "file_extension": ".py",
   "mimetype": "text/x-python",
   "name": "python",
   "nbconvert_exporter": "python",
   "pygments_lexer": "ipython3",
   "version": "3.11.5"
  }
 },
 "nbformat": 4,
 "nbformat_minor": 5
}
